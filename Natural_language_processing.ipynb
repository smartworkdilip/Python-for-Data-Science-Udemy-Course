{
  "cells": [
    {
      "metadata": {
        "_uuid": "3b908e441497dc8b429ef6a67bf130ac75341726"
      },
      "cell_type": "markdown",
      "source": "___\n\n<a href='http://www.pieriandata.com'> <img src='../Pierian_Data_Logo.png' /></a>\n___"
    },
    {
      "metadata": {
        "_uuid": "4dfe36c68e0017ae43108b5d728c415f7da22491"
      },
      "cell_type": "markdown",
      "source": "# Natural Language Processing Project\n\nWelcome to the NLP Project for this section of the course. In this NLP project you will be attempting to classify Yelp Reviews into 1 star or 5 star categories based off the text content in the reviews. This will be a simpler procedure than the lecture, since we will utilize the pipeline methods for more complex tasks.\n\nWe will use the [Yelp Review Data Set from Kaggle](https://www.kaggle.com/c/yelp-recsys-2013).\n\nEach observation in this dataset is a review of a particular business by a particular user.\n\nThe \"stars\" column is the number of stars (1 through 5) assigned by the reviewer to the business. (Higher stars is better.) In other words, it is the rating of the business by the person who wrote the review.\n\nThe \"cool\" column is the number of \"cool\" votes this review received from other Yelp users. \n\nAll reviews start with 0 \"cool\" votes, and there is no limit to how many \"cool\" votes a review can receive. In other words, it is a rating of the review itself, not a rating of the business.\n\nThe \"useful\" and \"funny\" columns are similar to the \"cool\" column.\n\nLet's get started! Just follow the directions below!"
    },
    {
      "metadata": {
        "_uuid": "31b7d27721b76ead03c1a0215dd346f17c90f4ff"
      },
      "cell_type": "markdown",
      "source": "## Imports\n **Import the usual suspects. :) **"
    },
    {
      "metadata": {
        "trusted": true,
        "_uuid": "cafc208070323057ff1e1444baf13b38f8ebacdb"
      },
      "cell_type": "code",
      "source": "import numpy as np\nimport pandas as pd",
      "execution_count": null,
      "outputs": []
    },
    {
      "metadata": {
        "_uuid": "096399f17df6c562bfd849aa75c5b57f8d77ea08"
      },
      "cell_type": "markdown",
      "source": "## The Data\n\n**Read the yelp.csv file and set it as a dataframe called yelp.**"
    },
    {
      "metadata": {
        "trusted": true,
        "_uuid": "a6f2a5968d6738b22266323d18daadf6a395ad46"
      },
      "cell_type": "code",
      "source": "df=pd.read_csv('../input/yelp.csv')",
      "execution_count": null,
      "outputs": []
    },
    {
      "metadata": {
        "_uuid": "c10f2dc5990b55fea3857c9f818464a7f37ce377"
      },
      "cell_type": "markdown",
      "source": "** Check the head, info , and describe methods on yelp.**"
    },
    {
      "metadata": {
        "trusted": true,
        "_uuid": "81e93265e09dfdd45f339bca47e9d69962744e6e"
      },
      "cell_type": "code",
      "source": "df.head()",
      "execution_count": null,
      "outputs": []
    },
    {
      "metadata": {
        "trusted": true,
        "_uuid": "3ea2fce8362983c10b5e07f486d14f01fc359584"
      },
      "cell_type": "code",
      "source": "df.info()",
      "execution_count": null,
      "outputs": []
    },
    {
      "metadata": {
        "trusted": true,
        "_uuid": "f2b388294bd1ab95900c941202d393517969deae"
      },
      "cell_type": "code",
      "source": "df.describe()",
      "execution_count": null,
      "outputs": []
    },
    {
      "metadata": {
        "_uuid": "37479b28ce9844e91371f8fc8494c564f36d3d3f"
      },
      "cell_type": "markdown",
      "source": "**Create a new column called \"text length\" which is the number of words in the text column.**"
    },
    {
      "metadata": {
        "trusted": true,
        "_uuid": "b57f42568a7c03333e8accbce496a80191da72e2"
      },
      "cell_type": "code",
      "source": "df['text length']=df['text'].apply(len)\ndf.head()",
      "execution_count": null,
      "outputs": []
    },
    {
      "metadata": {
        "_uuid": "9c250aca97d55cf1d4c4d41c5f6f2955c6428abf"
      },
      "cell_type": "markdown",
      "source": "# EDA\n\nLet's explore the data\n\n## Imports\n\n**Import the data visualization libraries if you haven't done so already.**"
    },
    {
      "metadata": {
        "trusted": true,
        "_uuid": "f26414fbe32053451eee7a4fe399990be3d8b99d"
      },
      "cell_type": "code",
      "source": "import matplotlib.pyplot as plt\nimport seaborn as sns\n%matplotlib inline",
      "execution_count": null,
      "outputs": []
    },
    {
      "metadata": {
        "_uuid": "a6dcc6da8126bb99576aba28ad323c8c3d35bc7f"
      },
      "cell_type": "markdown",
      "source": "**Use FacetGrid from the seaborn library to create a grid of 5 histograms of text length based off of the star ratings. Reference the seaborn documentation for hints on this**"
    },
    {
      "metadata": {
        "trusted": true,
        "_uuid": "289c88d3b371301615a335c67f9df0a3a5578819"
      },
      "cell_type": "code",
      "source": "g=sns.FacetGrid(df,col='stars')\ng.map(plt.hist,'text length')",
      "execution_count": null,
      "outputs": []
    },
    {
      "metadata": {
        "_uuid": "4c7014ca74510c97f626e882af305960ecaf9c72"
      },
      "cell_type": "markdown",
      "source": "**Create a boxplot of text length for each star category.**"
    },
    {
      "metadata": {
        "trusted": true,
        "_uuid": "6b6759003c294bbd8be0e4a963ec33616151a3a8"
      },
      "cell_type": "code",
      "source": "sns.boxplot(x='stars',y='text length',data=df,palette='rainbow')",
      "execution_count": null,
      "outputs": []
    },
    {
      "metadata": {
        "_uuid": "c39bae035f0756142018a301e02b1c919cf7a020"
      },
      "cell_type": "markdown",
      "source": "**Create a countplot of the number of occurrences for each type of star rating.**"
    },
    {
      "metadata": {
        "trusted": true,
        "_uuid": "d4cc7f16618f419c00e9f51fcf01ddf1718fc3eb"
      },
      "cell_type": "code",
      "source": "sns.countplot(x='stars',data=df,palette='rainbow')",
      "execution_count": null,
      "outputs": []
    },
    {
      "metadata": {
        "_uuid": "b5bfd6e8dd41c393edfdff344c228a18a357232d"
      },
      "cell_type": "markdown",
      "source": "** Use groupby to get the mean values of the numerical columns, you should be able to create this dataframe with the operation:**"
    },
    {
      "metadata": {
        "trusted": true,
        "_uuid": "3069a1d5a78f45dd9e2a53f5e016743c8bcfccc5"
      },
      "cell_type": "code",
      "source": "stars=df.groupby('stars').mean()\nstars",
      "execution_count": null,
      "outputs": []
    },
    {
      "metadata": {
        "_uuid": "d166e2c12027eaf3014377dd9c025e3ac83f09ba"
      },
      "cell_type": "markdown",
      "source": "**Use the corr() method on that groupby dataframe to produce this dataframe:**"
    },
    {
      "metadata": {
        "trusted": true,
        "_uuid": "0ed1792b3b059531da371b77589313a851b39b1f"
      },
      "cell_type": "code",
      "source": "stars.corr()",
      "execution_count": null,
      "outputs": []
    },
    {
      "metadata": {
        "_uuid": "041c09d5bcf9ad9e3aa4e8ff4aed447d1fe46e92"
      },
      "cell_type": "markdown",
      "source": "**Then use seaborn to create a heatmap based off that .corr() dataframe:**"
    },
    {
      "metadata": {
        "trusted": true,
        "_uuid": "f6d81db589bba86b7e042901fe5e0309629992be"
      },
      "cell_type": "code",
      "source": "sns.heatmap(stars.corr(),cmap='coolwarm',annot=True)",
      "execution_count": null,
      "outputs": []
    },
    {
      "metadata": {
        "_uuid": "93d6357cc2109f76179e86d338a6369717047516"
      },
      "cell_type": "markdown",
      "source": "## NLP Classification Task\n\nLet's move on to the actual task. To make things a little easier, go ahead and only grab reviews that were either 1 star or 5 stars.\n\n**Create a dataframe called yelp_class that contains the columns of yelp dataframe but for only the 1 or 5 star reviews.**"
    },
    {
      "metadata": {
        "trusted": true,
        "_uuid": "a23674acb26c93eae3ff1f89e8d458d650f50f89"
      },
      "cell_type": "code",
      "source": "yelp_class=df[(df.stars==1)|(df.stars==5)]",
      "execution_count": null,
      "outputs": []
    },
    {
      "metadata": {
        "_uuid": "aff59d4fac03c7d13d41cd104e71bb32e2f993fe"
      },
      "cell_type": "markdown",
      "source": "** Create two objects X and y. X will be the 'text' column of yelp_class and y will be the 'stars' column of yelp_class. (Your features and target/labels)**"
    },
    {
      "metadata": {
        "trusted": true,
        "_uuid": "93f199df1b5bd93e55251658a534263c434a8bef"
      },
      "cell_type": "code",
      "source": "X=yelp_class['text']\ny=yelp_class['stars']\n",
      "execution_count": null,
      "outputs": []
    },
    {
      "metadata": {
        "_uuid": "63df19d49883a694d1b2110098d348368cef4596"
      },
      "cell_type": "markdown",
      "source": "**Import CountVectorizer and create a CountVectorizer object.**"
    },
    {
      "metadata": {
        "trusted": true,
        "_uuid": "bff3bbf28b21b09784799400d7aa02b2b34052ac"
      },
      "cell_type": "code",
      "source": "from sklearn.feature_extraction.text import CountVectorizer \ncv=CountVectorizer()",
      "execution_count": null,
      "outputs": []
    },
    {
      "metadata": {
        "_uuid": "969fed46207e2b4a4d3ae837bf062e1e71348086"
      },
      "cell_type": "markdown",
      "source": "** Use the fit_transform method on the CountVectorizer object and pass in X (the 'text' column). Save this result by overwriting X.**"
    },
    {
      "metadata": {
        "trusted": true,
        "_uuid": "78c79f5495798d6de6b73c84984a369e454a8dfd"
      },
      "cell_type": "code",
      "source": "\nX=cv.fit_transform(X)",
      "execution_count": null,
      "outputs": []
    },
    {
      "metadata": {
        "_uuid": "3474cdf458dfacc34a60c947349930f114261180"
      },
      "cell_type": "markdown",
      "source": "## Train Test Split\n\nLet's split our data into training and testing data.\n\n** Use train_test_split to split up the data into X_train, X_test, y_train, y_test. Use test_size=0.3 and random_state=101 **"
    },
    {
      "metadata": {
        "trusted": true,
        "_uuid": "2f9a2db73f999abf8c0ce90e5076439d77c13273"
      },
      "cell_type": "code",
      "source": "from sklearn.model_selection import train_test_split",
      "execution_count": null,
      "outputs": []
    },
    {
      "metadata": {
        "trusted": true,
        "_uuid": "c361851f011afe49490f6ad95667fad51adfd3a7"
      },
      "cell_type": "code",
      "source": "    X_train,X_test,y_train,y_test=train_test_split(X,y,test_size=0.3,random_state=101)",
      "execution_count": null,
      "outputs": []
    },
    {
      "metadata": {
        "_uuid": "b59c97df61707925c07eacde363e1506b3eba2fd"
      },
      "cell_type": "markdown",
      "source": "## Training a Model\n\nTime to train a model!\n\n** Import MultinomialNB and create an instance of the estimator and call is nb **"
    },
    {
      "metadata": {
        "trusted": true,
        "_uuid": "e18706370e9cd6a53b5eeab688b249786da267f6"
      },
      "cell_type": "code",
      "source": "from sklearn.naive_bayes import MultinomialNB\nnb=MultinomialNB()",
      "execution_count": null,
      "outputs": []
    },
    {
      "metadata": {
        "_uuid": "5ffa67e8e313333cd2fc165d3a08484c908bbdbf"
      },
      "cell_type": "markdown",
      "source": "**Now fit nb using the training data.**"
    },
    {
      "metadata": {
        "trusted": true,
        "_uuid": "5041410feb14c66deb49d0f0a8eca43594484626"
      },
      "cell_type": "code",
      "source": "nb.fit(X_train,y_train)",
      "execution_count": null,
      "outputs": []
    },
    {
      "metadata": {
        "_uuid": "5c4af85f52ab8d2229eb0e3d134bb051bfdeb355"
      },
      "cell_type": "markdown",
      "source": "## Predictions and Evaluations\n\nTime to see how our model did!\n\n**Use the predict method off of nb to predict labels from X_test.**"
    },
    {
      "metadata": {
        "trusted": true,
        "_uuid": "9c9990613c3c6bcd83c31d7cf10964d88afcaeb6"
      },
      "cell_type": "code",
      "source": "prediction=nb.predict(X_test)",
      "execution_count": null,
      "outputs": []
    },
    {
      "metadata": {
        "_uuid": "022a8d8c41209921d6bb893c7d71a319be547170"
      },
      "cell_type": "markdown",
      "source": "** Create a confusion matrix and classification report using these predictions and y_test **"
    },
    {
      "metadata": {
        "trusted": true,
        "_uuid": "1ed950b63c1a496f017767505cbab07504caa638"
      },
      "cell_type": "code",
      "source": "from sklearn.metrics import confusion_matrix,classification_report",
      "execution_count": null,
      "outputs": []
    },
    {
      "metadata": {
        "trusted": true,
        "_uuid": "41dc21afb17a51a507b337064b4aa48663fe2f35"
      },
      "cell_type": "code",
      "source": "print(confusion_matrix(y_test,prediction))\nprint(classification_report(y_test,prediction))",
      "execution_count": null,
      "outputs": []
    },
    {
      "metadata": {
        "_uuid": "15e2df748f2ea0b062219d375670c40f5dd04639"
      },
      "cell_type": "markdown",
      "source": "**Great! Let's see what happens if we try to include TF-IDF to this process using a pipeline.**"
    },
    {
      "metadata": {
        "_uuid": "809d97b8333891d7fa7f425c5b721db225ee4a0c"
      },
      "cell_type": "markdown",
      "source": "# Using Text Processing\n\n** Import TfidfTransformer from sklearn. **"
    },
    {
      "metadata": {
        "trusted": true,
        "_uuid": "ce0cbd4219200c3e35b334f2381d0626212257bf"
      },
      "cell_type": "code",
      "source": "from sklearn.feature_extraction.text import TfidfTransformer",
      "execution_count": null,
      "outputs": []
    },
    {
      "metadata": {
        "_uuid": "e42f3617f57a72ab7e6d05d138c0aa4334d53dff"
      },
      "cell_type": "markdown",
      "source": "** Import Pipeline from sklearn. **"
    },
    {
      "metadata": {
        "trusted": true,
        "_uuid": "3f45c22a3a308f9755057b8cad1551c228f4c67b"
      },
      "cell_type": "code",
      "source": "from sklearn.pipeline import Pipeline",
      "execution_count": null,
      "outputs": []
    },
    {
      "metadata": {
        "_uuid": "a1da92d5837cd9c134704b3c8812173a8fec7b7c"
      },
      "cell_type": "markdown",
      "source": "** Now create a pipeline with the following steps:CountVectorizer(), TfidfTransformer(),MultinomialNB()**"
    },
    {
      "metadata": {
        "trusted": true,
        "_uuid": "e8184cc9ef3c8fc54bb9e2152d581f0407b95636"
      },
      "cell_type": "code",
      "source": "pipeline=Pipeline([\n    ('bow',CountVectorizer()),\n   ( 'tfidf',TfidfTransformer()),\n    ('classifier',MultinomialNB())\n])",
      "execution_count": null,
      "outputs": []
    },
    {
      "metadata": {
        "_uuid": "aae3dd29dff26f0b6192c4e65e8f6bb105a1434d"
      },
      "cell_type": "markdown",
      "source": "## Using the Pipeline\n\n**Time to use the pipeline! Remember this pipeline has all your pre-process steps in it already, meaning we'll need to re-split the original data (Remember that we overwrote X as the CountVectorized version. What we need is just the text**"
    },
    {
      "metadata": {
        "_uuid": "f1e184f493bb075a7bd2470bc8a273c88cef45d1"
      },
      "cell_type": "markdown",
      "source": "### Train Test Split\n\n**Redo the train test split on the yelp_class object.**"
    },
    {
      "metadata": {
        "trusted": true,
        "_uuid": "d413548dfc5960a8f63fa56f6aed8ec851abf3d2"
      },
      "cell_type": "code",
      "source": "X=yelp_class['text']\ny=yelp_class['stars']\nX_train,X_test,y_train,y_test=train_test_split(X,y,test_size=0.3)",
      "execution_count": null,
      "outputs": []
    },
    {
      "metadata": {
        "_uuid": "cf6871fa3c0c24d70bdf44050035bd8385a5b0de"
      },
      "cell_type": "markdown",
      "source": "**Now fit the pipeline to the training data. Remember you can't use the same training data as last time because that data has already been vectorized. We need to pass in just the text and labels**"
    },
    {
      "metadata": {
        "trusted": true,
        "_uuid": "490d8893c596fa53c51f21ce25451680efd366db"
      },
      "cell_type": "code",
      "source": "pipeline.fit(X_train,y_train)",
      "execution_count": null,
      "outputs": []
    },
    {
      "metadata": {
        "_uuid": "7c0ac4aed8e594f872bc63d671c266b587ab4ade"
      },
      "cell_type": "markdown",
      "source": "### Predictions and Evaluation\n\n** Now use the pipeline to predict from the X_test and create a classification report and confusion matrix. You should notice strange results.**"
    },
    {
      "metadata": {
        "trusted": true,
        "_uuid": "c9ee4e318363156867dc32d0f01c68b3ea6ed380"
      },
      "cell_type": "code",
      "source": "prediction=pipeline.predict(X_test)",
      "execution_count": null,
      "outputs": []
    },
    {
      "metadata": {
        "trusted": true,
        "_uuid": "296a7a8b54e306adba053a8c0be70543ab22fe7c"
      },
      "cell_type": "code",
      "source": "print(confusion_matrix(y_test,prediction),\n     classification_report(y_test,prediction))",
      "execution_count": null,
      "outputs": []
    },
    {
      "metadata": {
        "_uuid": "4a2054e84eb31215d061040d8479b86350ce5de4"
      },
      "cell_type": "markdown",
      "source": "Looks like Tf-Idf actually made things worse! That is it for this project. But there is still a lot more you can play with:\n\n**Some other things to try....**\nTry going back and playing around with the pipeline steps and seeing if creating a custom analyzer like we did in the lecture helps (note: it probably won't). Or recreate the pipeline with just the CountVectorizer() and NaiveBayes. Does changing the ML model at the end to another classifier help at all?"
    },
    {
      "metadata": {
        "_uuid": "9755638847b36ade75bbc1aed3e1ef57f64e7f01"
      },
      "cell_type": "markdown",
      "source": "# Great Job!"
    }
  ],
  "metadata": {
    "kernelspec": {
      "display_name": "Python 3",
      "language": "python",
      "name": "python3"
    },
    "language_info": {
      "name": "python",
      "version": "3.6.6",
      "mimetype": "text/x-python",
      "codemirror_mode": {
        "name": "ipython",
        "version": 3
      },
      "pygments_lexer": "ipython3",
      "nbconvert_exporter": "python",
      "file_extension": ".py"
    }
  },
  "nbformat": 4,
  "nbformat_minor": 1
}